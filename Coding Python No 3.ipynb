{
 "cells": [
  {
   "cell_type": "markdown",
   "metadata": {},
   "source": [
    "# Soal No.3\n",
    "Using Dataset C above, write a code with following requirements:\n",
    "\n",
    "    a.\tYour task is to create an automation (python script preferable) that convert JSON file above into three CSV files below:\n"
   ]
  },
  {
   "cell_type": "code",
   "execution_count": 1,
   "metadata": {},
   "outputs": [],
   "source": [
    "import json\n",
    "import csv\n",
    "import pandas as pd"
   ]
  },
  {
   "cell_type": "code",
   "execution_count": 2,
   "metadata": {},
   "outputs": [],
   "source": [
    "data = {}\n",
    "data['file'] = [\n",
    "   {\n",
    "       \"user\": {\n",
    "           \"id\": 1,\n",
    "           \"name\": \"agus\",\n",
    "           \"email\": \"agus@example.com\"\n",
    "       },\n",
    "       \"txs\": [\n",
    "           {\n",
    "               \"id\": 1,\n",
    "               \"tx_date\": \"2020-01-01\",\n",
    "               \"tx_amount\": 10,\n",
    "               \"tx_type\": \"buy\"\n",
    "           },\n",
    "           {\n",
    "               \"id\": 3,\n",
    "               \"tx_date\": \"2020-02-01\",\n",
    "               \"tx_amount\": 10,\n",
    "               \"tx_type\": \"buy\"\n",
    "           },\n",
    "           {\n",
    "               \"id\": 5,\n",
    "               \"tx_date\": \"2020-03-01\",\n",
    "               \"tx_amount\": 20,\n",
    "               \"tx_type\": \"sell\"\n",
    "           }\n",
    "       ]\n",
    "   },\n",
    "   {\n",
    "       \"user\": {\n",
    "           \"id\": 2,\n",
    "           \"name\": \"asep\",\n",
    "           \"email\": \"asep@example.com\"\n",
    "       },\n",
    "       \"txs\": [\n",
    "           {\n",
    "               \"id\": 2,\n",
    "               \"tx_date\": \"2020-01-01\",\n",
    "               \"tx_amount\": 10,\n",
    "               \"tx_type\": \"sell\"\n",
    "           },\n",
    "           {\n",
    "               \"id\": 4,\n",
    "               \"tx_date\": \"2020-02-01\",\n",
    "               \"tx_amount\": 10,\n",
    "               \"tx_type\": \"sell\"\n",
    "           },\n",
    "           {\n",
    "               \"id\": 6,\n",
    "               \"tx_date\": \"2020-03-01\",\n",
    "               \"tx_amount\": 20,\n",
    "               \"tx_type\": \"buy\"\n",
    "           }\n",
    "       ]\n",
    "   }\n",
    "]\n"
   ]
  },
  {
   "cell_type": "code",
   "execution_count": 3,
   "metadata": {},
   "outputs": [],
   "source": [
    "with open('file.txt', 'w') as files:\n",
    "    json.dump(data, files)"
   ]
  },
  {
   "cell_type": "code",
   "execution_count": 4,
   "metadata": {},
   "outputs": [],
   "source": [
    "with open('file.txt', 'r') as files:\n",
    "    data= json.load(files)"
   ]
  },
  {
   "cell_type": "code",
   "execution_count": 5,
   "metadata": {},
   "outputs": [],
   "source": [
    "data= data['file']"
   ]
  },
  {
   "cell_type": "code",
   "execution_count": 6,
   "metadata": {},
   "outputs": [
    {
     "data": {
      "text/plain": [
       "[{'user': {'id': 1, 'name': 'agus', 'email': 'agus@example.com'},\n",
       "  'txs': [{'id': 1,\n",
       "    'tx_date': '2020-01-01',\n",
       "    'tx_amount': 10,\n",
       "    'tx_type': 'buy'},\n",
       "   {'id': 3, 'tx_date': '2020-02-01', 'tx_amount': 10, 'tx_type': 'buy'},\n",
       "   {'id': 5, 'tx_date': '2020-03-01', 'tx_amount': 20, 'tx_type': 'sell'}]},\n",
       " {'user': {'id': 2, 'name': 'asep', 'email': 'asep@example.com'},\n",
       "  'txs': [{'id': 2,\n",
       "    'tx_date': '2020-01-01',\n",
       "    'tx_amount': 10,\n",
       "    'tx_type': 'sell'},\n",
       "   {'id': 4, 'tx_date': '2020-02-01', 'tx_amount': 10, 'tx_type': 'sell'},\n",
       "   {'id': 6, 'tx_date': '2020-03-01', 'tx_amount': 20, 'tx_type': 'buy'}]}]"
      ]
     },
     "execution_count": 6,
     "metadata": {},
     "output_type": "execute_result"
    }
   ],
   "source": [
    "data"
   ]
  },
  {
   "cell_type": "markdown",
   "metadata": {},
   "source": [
    "# csv_1"
   ]
  },
  {
   "cell_type": "code",
   "execution_count": 7,
   "metadata": {},
   "outputs": [],
   "source": [
    "user_id = []\n",
    "tx_id = []\n",
    "for i in range(len(data[0]['txs'])):\n",
    "    tx_id.append(data[0]['txs'][i]['id'])\n",
    "    user_id.append(data[0]['user']['id'])"
   ]
  },
  {
   "cell_type": "code",
   "execution_count": 8,
   "metadata": {},
   "outputs": [],
   "source": [
    "for i in range(len(data[1]['txs'])):\n",
    "    tx_id.append(data[1]['txs'][i]['id'])\n",
    "    user_id.append(data[1]['user']['id'])"
   ]
  },
  {
   "cell_type": "code",
   "execution_count": 9,
   "metadata": {},
   "outputs": [
    {
     "data": {
      "text/plain": [
       "[1, 1, 1, 2, 2, 2]"
      ]
     },
     "execution_count": 9,
     "metadata": {},
     "output_type": "execute_result"
    }
   ],
   "source": [
    "user_id"
   ]
  },
  {
   "cell_type": "code",
   "execution_count": 10,
   "metadata": {},
   "outputs": [
    {
     "data": {
      "text/plain": [
       "[1, 3, 5, 2, 4, 6]"
      ]
     },
     "execution_count": 10,
     "metadata": {},
     "output_type": "execute_result"
    }
   ],
   "source": [
    "tx_id"
   ]
  },
  {
   "cell_type": "code",
   "execution_count": 11,
   "metadata": {},
   "outputs": [],
   "source": [
    "df = pd.DataFrame({'user_id':user_id,'tx_id':tx_id})"
   ]
  },
  {
   "cell_type": "code",
   "execution_count": 12,
   "metadata": {},
   "outputs": [
    {
     "data": {
      "text/html": [
       "<div>\n",
       "<style scoped>\n",
       "    .dataframe tbody tr th:only-of-type {\n",
       "        vertical-align: middle;\n",
       "    }\n",
       "\n",
       "    .dataframe tbody tr th {\n",
       "        vertical-align: top;\n",
       "    }\n",
       "\n",
       "    .dataframe thead th {\n",
       "        text-align: right;\n",
       "    }\n",
       "</style>\n",
       "<table border=\"1\" class=\"dataframe\">\n",
       "  <thead>\n",
       "    <tr style=\"text-align: right;\">\n",
       "      <th></th>\n",
       "      <th>user_id</th>\n",
       "      <th>tx_id</th>\n",
       "    </tr>\n",
       "  </thead>\n",
       "  <tbody>\n",
       "    <tr>\n",
       "      <th>0</th>\n",
       "      <td>1</td>\n",
       "      <td>1</td>\n",
       "    </tr>\n",
       "    <tr>\n",
       "      <th>1</th>\n",
       "      <td>1</td>\n",
       "      <td>3</td>\n",
       "    </tr>\n",
       "    <tr>\n",
       "      <th>2</th>\n",
       "      <td>1</td>\n",
       "      <td>5</td>\n",
       "    </tr>\n",
       "    <tr>\n",
       "      <th>3</th>\n",
       "      <td>2</td>\n",
       "      <td>2</td>\n",
       "    </tr>\n",
       "    <tr>\n",
       "      <th>4</th>\n",
       "      <td>2</td>\n",
       "      <td>4</td>\n",
       "    </tr>\n",
       "    <tr>\n",
       "      <th>5</th>\n",
       "      <td>2</td>\n",
       "      <td>6</td>\n",
       "    </tr>\n",
       "  </tbody>\n",
       "</table>\n",
       "</div>"
      ],
      "text/plain": [
       "   user_id  tx_id\n",
       "0        1      1\n",
       "1        1      3\n",
       "2        1      5\n",
       "3        2      2\n",
       "4        2      4\n",
       "5        2      6"
      ]
     },
     "execution_count": 12,
     "metadata": {},
     "output_type": "execute_result"
    }
   ],
   "source": [
    "df"
   ]
  },
  {
   "cell_type": "code",
   "execution_count": 13,
   "metadata": {},
   "outputs": [],
   "source": [
    "df.to_csv (r'C:\\Users\\hp\\csv_1.csv', index = None)"
   ]
  },
  {
   "cell_type": "markdown",
   "metadata": {},
   "source": [
    "# csv_2"
   ]
  },
  {
   "cell_type": "code",
   "execution_count": 14,
   "metadata": {},
   "outputs": [],
   "source": [
    "Id = []\n",
    "name = []\n",
    "email= []\n",
    "for i in range(len(data)):\n",
    "    Id.append(data[i]['user']['id'])\n",
    "    name.append(data[i]['user']['name'])\n",
    "    email.append(data[i]['user']['email'])"
   ]
  },
  {
   "cell_type": "code",
   "execution_count": 15,
   "metadata": {},
   "outputs": [],
   "source": [
    "df2 = pd.DataFrame({'Id':Id,'name':name, 'email':email})"
   ]
  },
  {
   "cell_type": "code",
   "execution_count": 17,
   "metadata": {},
   "outputs": [
    {
     "data": {
      "text/html": [
       "<div>\n",
       "<style scoped>\n",
       "    .dataframe tbody tr th:only-of-type {\n",
       "        vertical-align: middle;\n",
       "    }\n",
       "\n",
       "    .dataframe tbody tr th {\n",
       "        vertical-align: top;\n",
       "    }\n",
       "\n",
       "    .dataframe thead th {\n",
       "        text-align: right;\n",
       "    }\n",
       "</style>\n",
       "<table border=\"1\" class=\"dataframe\">\n",
       "  <thead>\n",
       "    <tr style=\"text-align: right;\">\n",
       "      <th></th>\n",
       "      <th>Id</th>\n",
       "      <th>name</th>\n",
       "      <th>email</th>\n",
       "    </tr>\n",
       "  </thead>\n",
       "  <tbody>\n",
       "    <tr>\n",
       "      <th>0</th>\n",
       "      <td>1</td>\n",
       "      <td>agus</td>\n",
       "      <td>agus@example.com</td>\n",
       "    </tr>\n",
       "    <tr>\n",
       "      <th>1</th>\n",
       "      <td>2</td>\n",
       "      <td>asep</td>\n",
       "      <td>asep@example.com</td>\n",
       "    </tr>\n",
       "  </tbody>\n",
       "</table>\n",
       "</div>"
      ],
      "text/plain": [
       "   Id  name             email\n",
       "0   1  agus  agus@example.com\n",
       "1   2  asep  asep@example.com"
      ]
     },
     "execution_count": 17,
     "metadata": {},
     "output_type": "execute_result"
    }
   ],
   "source": [
    "df2"
   ]
  },
  {
   "cell_type": "code",
   "execution_count": 16,
   "metadata": {},
   "outputs": [],
   "source": [
    "df2.to_csv (r'C:\\Users\\hp\\csv_2.csv', index = None)"
   ]
  },
  {
   "cell_type": "markdown",
   "metadata": {},
   "source": [
    "# csv_3"
   ]
  },
  {
   "cell_type": "code",
   "execution_count": 23,
   "metadata": {},
   "outputs": [],
   "source": [
    "Id = []\n",
    "tx_date = []\n",
    "tx_amount= []\n",
    "tx_type= []\n",
    "for i in range(len(data[0]['txs'])):\n",
    "    Id.append(data[0]['txs'][i]['id'])\n",
    "    tx_date.append(data[0]['txs'][i]['tx_date'])\n",
    "    tx_amount.append(data[0]['txs'][i]['tx_amount'])\n",
    "    tx_type.append(data[0]['txs'][i]['tx_type'])"
   ]
  },
  {
   "cell_type": "code",
   "execution_count": 24,
   "metadata": {},
   "outputs": [],
   "source": [
    "for i in range(len(data[1]['txs'])):\n",
    "    Id.append(data[1]['txs'][i]['id'])\n",
    "    tx_date.append(data[1]['txs'][i]['tx_date'])\n",
    "    tx_amount.append(data[1]['txs'][i]['tx_amount'])\n",
    "    tx_type.append(data[1]['txs'][i]['tx_type'])"
   ]
  },
  {
   "cell_type": "code",
   "execution_count": 25,
   "metadata": {},
   "outputs": [],
   "source": [
    "df3 = pd.DataFrame({'Id':Id,'tx_date':tx_date, 'tx_amount':tx_amount, 'tx_type':tx_type})"
   ]
  },
  {
   "cell_type": "code",
   "execution_count": 26,
   "metadata": {},
   "outputs": [
    {
     "data": {
      "text/html": [
       "<div>\n",
       "<style scoped>\n",
       "    .dataframe tbody tr th:only-of-type {\n",
       "        vertical-align: middle;\n",
       "    }\n",
       "\n",
       "    .dataframe tbody tr th {\n",
       "        vertical-align: top;\n",
       "    }\n",
       "\n",
       "    .dataframe thead th {\n",
       "        text-align: right;\n",
       "    }\n",
       "</style>\n",
       "<table border=\"1\" class=\"dataframe\">\n",
       "  <thead>\n",
       "    <tr style=\"text-align: right;\">\n",
       "      <th></th>\n",
       "      <th>Id</th>\n",
       "      <th>tx_date</th>\n",
       "      <th>tx_amount</th>\n",
       "      <th>tx_type</th>\n",
       "    </tr>\n",
       "  </thead>\n",
       "  <tbody>\n",
       "    <tr>\n",
       "      <th>0</th>\n",
       "      <td>1</td>\n",
       "      <td>2020-01-01</td>\n",
       "      <td>10</td>\n",
       "      <td>buy</td>\n",
       "    </tr>\n",
       "    <tr>\n",
       "      <th>1</th>\n",
       "      <td>3</td>\n",
       "      <td>2020-02-01</td>\n",
       "      <td>10</td>\n",
       "      <td>buy</td>\n",
       "    </tr>\n",
       "    <tr>\n",
       "      <th>2</th>\n",
       "      <td>5</td>\n",
       "      <td>2020-03-01</td>\n",
       "      <td>20</td>\n",
       "      <td>sell</td>\n",
       "    </tr>\n",
       "    <tr>\n",
       "      <th>3</th>\n",
       "      <td>2</td>\n",
       "      <td>2020-01-01</td>\n",
       "      <td>10</td>\n",
       "      <td>sell</td>\n",
       "    </tr>\n",
       "    <tr>\n",
       "      <th>4</th>\n",
       "      <td>4</td>\n",
       "      <td>2020-02-01</td>\n",
       "      <td>10</td>\n",
       "      <td>sell</td>\n",
       "    </tr>\n",
       "    <tr>\n",
       "      <th>5</th>\n",
       "      <td>6</td>\n",
       "      <td>2020-03-01</td>\n",
       "      <td>20</td>\n",
       "      <td>buy</td>\n",
       "    </tr>\n",
       "  </tbody>\n",
       "</table>\n",
       "</div>"
      ],
      "text/plain": [
       "   Id     tx_date  tx_amount tx_type\n",
       "0   1  2020-01-01         10     buy\n",
       "1   3  2020-02-01         10     buy\n",
       "2   5  2020-03-01         20    sell\n",
       "3   2  2020-01-01         10    sell\n",
       "4   4  2020-02-01         10    sell\n",
       "5   6  2020-03-01         20     buy"
      ]
     },
     "execution_count": 26,
     "metadata": {},
     "output_type": "execute_result"
    }
   ],
   "source": [
    "df3"
   ]
  },
  {
   "cell_type": "code",
   "execution_count": 27,
   "metadata": {},
   "outputs": [],
   "source": [
    "df3.to_csv (r'C:\\Users\\hp\\csv_3.csv', index = None)"
   ]
  }
 ],
 "metadata": {
  "kernelspec": {
   "display_name": "Python 3",
   "language": "python",
   "name": "python3"
  },
  "language_info": {
   "codemirror_mode": {
    "name": "ipython",
    "version": 3
   },
   "file_extension": ".py",
   "mimetype": "text/x-python",
   "name": "python",
   "nbconvert_exporter": "python",
   "pygments_lexer": "ipython3",
   "version": "3.7.4"
  }
 },
 "nbformat": 4,
 "nbformat_minor": 4
}
