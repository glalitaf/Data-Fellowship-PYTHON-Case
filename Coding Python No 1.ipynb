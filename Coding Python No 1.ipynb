{
 "cells": [
  {
   "cell_type": "markdown",
   "metadata": {},
   "source": [
    "# Soal No.1\n",
    "\n",
    "Using Dataset A above, The table given to you cannot be updated, \n",
    "so if there is a change in the status of a transaction the new data is inserted instead of updating the status of the transaction, \n",
    "it will insert a new row with the same id and insert time based on the time when the row is inserted. You are assigned to create a view that only shows the most updated transactions for each id, \n",
    "so there is no duplicate id inside the view."
   ]
  },
  {
   "cell_type": "code",
   "execution_count": 1,
   "metadata": {},
   "outputs": [],
   "source": [
    "import pandas as pd\n",
    "import numpy as np\n",
    "import datetime\n",
    "import sqlite3"
   ]
  },
  {
   "cell_type": "code",
   "execution_count": 2,
   "metadata": {},
   "outputs": [],
   "source": [
    "conn = sqlite3.connect('python.db')"
   ]
  },
  {
   "cell_type": "code",
   "execution_count": 3,
   "metadata": {},
   "outputs": [],
   "source": [
    "cur = conn.cursor()\n",
    "\n",
    "# Create table\n",
    "cur.execute(\n",
    "    \"\"\"CREATE TABLE IF NOT EXISTS transactions\n",
    "    (id int,\n",
    "    insert_time timestamp,\n",
    "    tx_amount float,\n",
    "    tx_type text, \n",
    "    status text)\"\"\")\n",
    "\n",
    "# Insert a row of data\n",
    "cur.execute(\"INSERT INTO transactions VALUES (1001, '2020-01-01 17:05:39', 10, 'Buy','Online')\")\n",
    "cur.execute(\"INSERT INTO transactions VALUES (1002, '2020-01-01 08:30:02', 10, 'Sell','Online')\")\n",
    "cur.execute(\"INSERT INTO transactions VALUES (1003, '2020-02-01 12:15:28', 10, 'Buy','Online')\")\n",
    "cur.execute(\"INSERT INTO transactions VALUES (1004, '2020-02-01 05:45:54', 10, 'Sell','Online')\")\n",
    "cur.execute(\"INSERT INTO transactions VALUES (1005, '2020-03-01 20:56:12', 20, 'Buy','Online')\")\n",
    "cur.execute(\"INSERT INTO transactions VALUES (1006, '2020-03-01 10:12:08', 20, 'Sell','Online')\")\n",
    "\n",
    "# Save (commit) the changes\n",
    "conn.commit()"
   ]
  },
  {
   "cell_type": "code",
   "execution_count": 4,
   "metadata": {},
   "outputs": [],
   "source": [
    "# Insert new datas\n",
    "\n",
    "def insert_data(id, insert_time, tx_amount, tx_type, status):\n",
    "    cur.execute('''INSERT INTO transactions (id, insert_time, tx_amount, tx_type, status) VALUES(?, ?, ?, ?, ?)''',(id, insert_time, tx_amount, tx_type, status))\n",
    "    conn.commit()"
   ]
  },
  {
   "cell_type": "code",
   "execution_count": 5,
   "metadata": {},
   "outputs": [],
   "source": [
    "from datetime import datetime\n",
    "\n",
    "now = datetime.now()\n",
    "\n",
    "current_time = now.strftime(\"%Y-%m-%d %H:%M:%S\")"
   ]
  },
  {
   "cell_type": "code",
   "execution_count": 6,
   "metadata": {},
   "outputs": [],
   "source": [
    "#Insert New Data\n",
    "\n",
    "insert_data(1001, current_time, 10, 'Buy', 'Offline')\n",
    "insert_data(1002, current_time, 10, 'Sell', 'Offline')\n",
    "insert_data(1003, current_time, 10, 'Buy', 'Offline')\n",
    "insert_data(1004, current_time, 10, 'Sell', 'Offline')\n",
    "insert_data(1005, current_time, 20, 'Buy', 'Offline')\n",
    "insert_data(1006, current_time, 20, 'Sell', 'Offline')\n",
    "\n",
    "conn.commit()"
   ]
  },
  {
   "cell_type": "code",
   "execution_count": 7,
   "metadata": {},
   "outputs": [],
   "source": [
    "query= '''SELECT * FROM transactions WHERE insert_time >= '2021-01-01 00:00:00' '''"
   ]
  },
  {
   "cell_type": "code",
   "execution_count": 8,
   "metadata": {},
   "outputs": [],
   "source": [
    "df = pd.read_sql_query(query, conn)"
   ]
  },
  {
   "cell_type": "code",
   "execution_count": 9,
   "metadata": {},
   "outputs": [
    {
     "data": {
      "text/html": [
       "<div>\n",
       "<style scoped>\n",
       "    .dataframe tbody tr th:only-of-type {\n",
       "        vertical-align: middle;\n",
       "    }\n",
       "\n",
       "    .dataframe tbody tr th {\n",
       "        vertical-align: top;\n",
       "    }\n",
       "\n",
       "    .dataframe thead th {\n",
       "        text-align: right;\n",
       "    }\n",
       "</style>\n",
       "<table border=\"1\" class=\"dataframe\">\n",
       "  <thead>\n",
       "    <tr style=\"text-align: right;\">\n",
       "      <th></th>\n",
       "      <th>id</th>\n",
       "      <th>insert_time</th>\n",
       "      <th>tx_amount</th>\n",
       "      <th>tx_type</th>\n",
       "      <th>status</th>\n",
       "    </tr>\n",
       "  </thead>\n",
       "  <tbody>\n",
       "    <tr>\n",
       "      <th>0</th>\n",
       "      <td>1001</td>\n",
       "      <td>2021-06-26 18:36:51</td>\n",
       "      <td>10.0</td>\n",
       "      <td>Buy</td>\n",
       "      <td>Offline</td>\n",
       "    </tr>\n",
       "    <tr>\n",
       "      <th>1</th>\n",
       "      <td>1002</td>\n",
       "      <td>2021-06-26 18:36:51</td>\n",
       "      <td>10.0</td>\n",
       "      <td>Sell</td>\n",
       "      <td>Offline</td>\n",
       "    </tr>\n",
       "    <tr>\n",
       "      <th>2</th>\n",
       "      <td>1003</td>\n",
       "      <td>2021-06-26 18:36:51</td>\n",
       "      <td>10.0</td>\n",
       "      <td>Buy</td>\n",
       "      <td>Offline</td>\n",
       "    </tr>\n",
       "    <tr>\n",
       "      <th>3</th>\n",
       "      <td>1004</td>\n",
       "      <td>2021-06-26 18:36:51</td>\n",
       "      <td>10.0</td>\n",
       "      <td>Sell</td>\n",
       "      <td>Offline</td>\n",
       "    </tr>\n",
       "    <tr>\n",
       "      <th>4</th>\n",
       "      <td>1005</td>\n",
       "      <td>2021-06-26 18:36:51</td>\n",
       "      <td>20.0</td>\n",
       "      <td>Buy</td>\n",
       "      <td>Offline</td>\n",
       "    </tr>\n",
       "    <tr>\n",
       "      <th>5</th>\n",
       "      <td>1006</td>\n",
       "      <td>2021-06-26 18:36:51</td>\n",
       "      <td>20.0</td>\n",
       "      <td>Sell</td>\n",
       "      <td>Offline</td>\n",
       "    </tr>\n",
       "  </tbody>\n",
       "</table>\n",
       "</div>"
      ],
      "text/plain": [
       "     id          insert_time  tx_amount tx_type   status\n",
       "0  1001  2021-06-26 18:36:51       10.0     Buy  Offline\n",
       "1  1002  2021-06-26 18:36:51       10.0    Sell  Offline\n",
       "2  1003  2021-06-26 18:36:51       10.0     Buy  Offline\n",
       "3  1004  2021-06-26 18:36:51       10.0    Sell  Offline\n",
       "4  1005  2021-06-26 18:36:51       20.0     Buy  Offline\n",
       "5  1006  2021-06-26 18:36:51       20.0    Sell  Offline"
      ]
     },
     "execution_count": 9,
     "metadata": {},
     "output_type": "execute_result"
    }
   ],
   "source": [
    "df"
   ]
  }
 ],
 "metadata": {
  "kernelspec": {
   "display_name": "Python 3",
   "language": "python",
   "name": "python3"
  },
  "language_info": {
   "codemirror_mode": {
    "name": "ipython",
    "version": 3
   },
   "file_extension": ".py",
   "mimetype": "text/x-python",
   "name": "python",
   "nbconvert_exporter": "python",
   "pygments_lexer": "ipython3",
   "version": "3.7.4"
  }
 },
 "nbformat": 4,
 "nbformat_minor": 4
}
